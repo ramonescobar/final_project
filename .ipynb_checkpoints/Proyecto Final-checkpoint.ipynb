{
 "cells": [
  {
   "cell_type": "markdown",
   "id": "written-orchestra",
   "metadata": {},
   "source": [
    "# Proyecto Final \n",
    "------\n",
    "\n",
    "Por Ramón Escobar para Ciencia de Datos en Python I (Abril 2021)"
   ]
  },
  {
   "cell_type": "markdown",
   "id": "inner-injection",
   "metadata": {},
   "source": [
    "## Carga de datos y Train-Test Split"
   ]
  },
  {
   "cell_type": "code",
   "execution_count": 65,
   "id": "elementary-inspection",
   "metadata": {},
   "outputs": [],
   "source": [
    "#Librerias\n",
    "import numpy as np\n",
    "import pandas as pd\n",
    "import seaborn as sns"
   ]
  },
  {
   "cell_type": "code",
   "execution_count": 34,
   "id": "knowing-authorization",
   "metadata": {},
   "outputs": [],
   "source": [
    "data = np.load('proyecto_training_data.npy', allow_pickle = False)"
   ]
  },
  {
   "cell_type": "code",
   "execution_count": 38,
   "id": "magnetic-participation",
   "metadata": {},
   "outputs": [
    {
     "data": {
      "text/plain": [
       "(1460, 6)"
      ]
     },
     "execution_count": 38,
     "metadata": {},
     "output_type": "execute_result"
    }
   ],
   "source": [
    "data.shape"
   ]
  },
  {
   "cell_type": "code",
   "execution_count": 54,
   "id": "acquired-index",
   "metadata": {},
   "outputs": [
    {
     "data": {
      "text/plain": [
       "((1168, 6), (292, 6))"
      ]
     },
     "execution_count": 54,
     "metadata": {},
     "output_type": "execute_result"
    }
   ],
   "source": [
    "pct_test = int(data.shape[0]*0.8)\n",
    "pct_train = int(data.shape[0]*0.2)\n",
    "np.random.shuffle(data)\n",
    "\n",
    "train, test = data[:pct_test], data[:pct_train]\n",
    "train.shape, test.shape"
   ]
  },
  {
   "cell_type": "markdown",
   "id": "fixed-killing",
   "metadata": {},
   "source": [
    "## Descriptivos de datos"
   ]
  },
  {
   "cell_type": "code",
   "execution_count": 59,
   "id": "included-guide",
   "metadata": {},
   "outputs": [],
   "source": [
    "train = pd.DataFrame(train, \n",
    "             columns = ['SalePrice', 'OverallQual','1stFlrSF','TotRmsAbvGrd','YearBuilt','LotFrontage'])\n",
    "\n",
    "test = pd.DataFrame(test, \n",
    "             columns = ['SalePrice','OverallQual', '1stFlrSF','TotRmsAbvGrd','YearBuilt','LotFrontage'])"
   ]
  },
  {
   "cell_type": "code",
   "execution_count": 60,
   "id": "decreased-richards",
   "metadata": {},
   "outputs": [
    {
     "data": {
      "text/html": [
       "<div>\n",
       "<style scoped>\n",
       "    .dataframe tbody tr th:only-of-type {\n",
       "        vertical-align: middle;\n",
       "    }\n",
       "\n",
       "    .dataframe tbody tr th {\n",
       "        vertical-align: top;\n",
       "    }\n",
       "\n",
       "    .dataframe thead th {\n",
       "        text-align: right;\n",
       "    }\n",
       "</style>\n",
       "<table border=\"1\" class=\"dataframe\">\n",
       "  <thead>\n",
       "    <tr style=\"text-align: right;\">\n",
       "      <th></th>\n",
       "      <th>SalePrice</th>\n",
       "      <th>OverallQual</th>\n",
       "      <th>1stFlrSF</th>\n",
       "      <th>TotRmsAbvGrd</th>\n",
       "      <th>YearBuilt</th>\n",
       "      <th>LotFrontage</th>\n",
       "    </tr>\n",
       "  </thead>\n",
       "  <tbody>\n",
       "    <tr>\n",
       "      <th>count</th>\n",
       "      <td>1168.000000</td>\n",
       "      <td>1168.000000</td>\n",
       "      <td>1168.000000</td>\n",
       "      <td>1168.000000</td>\n",
       "      <td>1168.000000</td>\n",
       "      <td>957.000000</td>\n",
       "    </tr>\n",
       "    <tr>\n",
       "      <th>mean</th>\n",
       "      <td>180462.750856</td>\n",
       "      <td>6.083048</td>\n",
       "      <td>1164.166096</td>\n",
       "      <td>6.553938</td>\n",
       "      <td>1971.548801</td>\n",
       "      <td>70.051202</td>\n",
       "    </tr>\n",
       "    <tr>\n",
       "      <th>std</th>\n",
       "      <td>78796.544544</td>\n",
       "      <td>1.356992</td>\n",
       "      <td>386.675209</td>\n",
       "      <td>1.626316</td>\n",
       "      <td>30.024714</td>\n",
       "      <td>24.010033</td>\n",
       "    </tr>\n",
       "    <tr>\n",
       "      <th>min</th>\n",
       "      <td>35311.000000</td>\n",
       "      <td>1.000000</td>\n",
       "      <td>334.000000</td>\n",
       "      <td>2.000000</td>\n",
       "      <td>1872.000000</td>\n",
       "      <td>21.000000</td>\n",
       "    </tr>\n",
       "    <tr>\n",
       "      <th>25%</th>\n",
       "      <td>130000.000000</td>\n",
       "      <td>5.000000</td>\n",
       "      <td>891.000000</td>\n",
       "      <td>5.000000</td>\n",
       "      <td>1954.000000</td>\n",
       "      <td>60.000000</td>\n",
       "    </tr>\n",
       "    <tr>\n",
       "      <th>50%</th>\n",
       "      <td>162450.000000</td>\n",
       "      <td>6.000000</td>\n",
       "      <td>1088.000000</td>\n",
       "      <td>6.000000</td>\n",
       "      <td>1972.500000</td>\n",
       "      <td>70.000000</td>\n",
       "    </tr>\n",
       "    <tr>\n",
       "      <th>75%</th>\n",
       "      <td>214000.000000</td>\n",
       "      <td>7.000000</td>\n",
       "      <td>1391.250000</td>\n",
       "      <td>7.000000</td>\n",
       "      <td>2001.000000</td>\n",
       "      <td>80.000000</td>\n",
       "    </tr>\n",
       "    <tr>\n",
       "      <th>max</th>\n",
       "      <td>755000.000000</td>\n",
       "      <td>10.000000</td>\n",
       "      <td>4692.000000</td>\n",
       "      <td>14.000000</td>\n",
       "      <td>2010.000000</td>\n",
       "      <td>313.000000</td>\n",
       "    </tr>\n",
       "  </tbody>\n",
       "</table>\n",
       "</div>"
      ],
      "text/plain": [
       "           SalePrice  OverallQual     1stFlrSF  TotRmsAbvGrd    YearBuilt  \\\n",
       "count    1168.000000  1168.000000  1168.000000   1168.000000  1168.000000   \n",
       "mean   180462.750856     6.083048  1164.166096      6.553938  1971.548801   \n",
       "std     78796.544544     1.356992   386.675209      1.626316    30.024714   \n",
       "min     35311.000000     1.000000   334.000000      2.000000  1872.000000   \n",
       "25%    130000.000000     5.000000   891.000000      5.000000  1954.000000   \n",
       "50%    162450.000000     6.000000  1088.000000      6.000000  1972.500000   \n",
       "75%    214000.000000     7.000000  1391.250000      7.000000  2001.000000   \n",
       "max    755000.000000    10.000000  4692.000000     14.000000  2010.000000   \n",
       "\n",
       "       LotFrontage  \n",
       "count   957.000000  \n",
       "mean     70.051202  \n",
       "std      24.010033  \n",
       "min      21.000000  \n",
       "25%      60.000000  \n",
       "50%      70.000000  \n",
       "75%      80.000000  \n",
       "max     313.000000  "
      ]
     },
     "execution_count": 60,
     "metadata": {},
     "output_type": "execute_result"
    }
   ],
   "source": [
    "train.describe()"
   ]
  },
  {
   "cell_type": "markdown",
   "id": "juvenile-collectible",
   "metadata": {},
   "source": [
    "## Histogramas"
   ]
  },
  {
   "cell_type": "code",
   "execution_count": 72,
   "id": "binding-daisy",
   "metadata": {},
   "outputs": [
    {
     "data": {
      "image/png": "[encoded data removed]",
      "text/plain": [
       "<Figure size 360x360 with 1 Axes>"
      ]
     },
     "metadata": {
      "needs_background": "light"
     },
     "output_type": "display_data"
    },
    {
     "data": {
      "image/png": "[encoded data removed]",
      "text/plain": [
       "<Figure size 360x360 with 1 Axes>"
      ]
     },
     "metadata": {
      "needs_background": "light"
     },
     "output_type": "display_data"
    },
    {
     "data": {
      "image/png": "[encoded data removed]",
      "text/plain": [
       "<Figure size 360x360 with 1 Axes>"
      ]
     },
     "metadata": {
      "needs_background": "light"
     },
     "output_type": "display_data"
    },
    {
     "data": {
      "image/png": "[encoded data removed]",
      "text/plain": [
       "<Figure size 360x360 with 1 Axes>"
      ]
     },
     "metadata": {
      "needs_background": "light"
     },
     "output_type": "display_data"
    },
    {
     "data": {
      "image/png": "[encoded data removed]",
      "text/plain": [
       "<Figure size 360x360 with 1 Axes>"
      ]
     },
     "metadata": {
      "needs_background": "light"
     },
     "output_type": "display_data"
    },
    {
     "data": {
      "image/png": "[encoded data removed]",
      "text/plain": [
       "<Figure size 360x360 with 1 Axes>"
      ]
     },
     "metadata": {
      "needs_background": "light"
     },
     "output_type": "display_data"
    }
   ],
   "source": [
    "for i in train.columns:\n",
    "    sns.displot(train[i])"
   ]
  },
  {
   "cell_type": "code",
   "execution_count": 76,
   "id": "broad-harvey",
   "metadata": {},
   "outputs": [
    {
     "data": {
      "text/html": [
       "<div>\n",
       "<style scoped>\n",
       "    .dataframe tbody tr th:only-of-type {\n",
       "        vertical-align: middle;\n",
       "    }\n",
       "\n",
       "    .dataframe tbody tr th {\n",
       "        vertical-align: top;\n",
       "    }\n",
       "\n",
       "    .dataframe thead th {\n",
       "        text-align: right;\n",
       "    }\n",
       "</style>\n",
       "<table border=\"1\" class=\"dataframe\">\n",
       "  <thead>\n",
       "    <tr style=\"text-align: right;\">\n",
       "      <th></th>\n",
       "      <th>SalePrice</th>\n",
       "      <th>OverallQual</th>\n",
       "      <th>1stFlrSF</th>\n",
       "      <th>TotRmsAbvGrd</th>\n",
       "      <th>YearBuilt</th>\n",
       "      <th>LotFrontage</th>\n",
       "    </tr>\n",
       "  </thead>\n",
       "  <tbody>\n",
       "    <tr>\n",
       "      <th>SalePrice</th>\n",
       "      <td>1.000000</td>\n",
       "      <td>0.788207</td>\n",
       "      <td>0.599344</td>\n",
       "      <td>0.534891</td>\n",
       "      <td>0.538154</td>\n",
       "      <td>0.346752</td>\n",
       "    </tr>\n",
       "    <tr>\n",
       "      <th>OverallQual</th>\n",
       "      <td>0.788207</td>\n",
       "      <td>1.000000</td>\n",
       "      <td>0.468012</td>\n",
       "      <td>0.426049</td>\n",
       "      <td>0.599502</td>\n",
       "      <td>0.252241</td>\n",
       "    </tr>\n",
       "    <tr>\n",
       "      <th>1stFlrSF</th>\n",
       "      <td>0.599344</td>\n",
       "      <td>0.468012</td>\n",
       "      <td>1.000000</td>\n",
       "      <td>0.414958</td>\n",
       "      <td>0.270471</td>\n",
       "      <td>0.474576</td>\n",
       "    </tr>\n",
       "    <tr>\n",
       "      <th>TotRmsAbvGrd</th>\n",
       "      <td>0.534891</td>\n",
       "      <td>0.426049</td>\n",
       "      <td>0.414958</td>\n",
       "      <td>1.000000</td>\n",
       "      <td>0.099711</td>\n",
       "      <td>0.357047</td>\n",
       "    </tr>\n",
       "    <tr>\n",
       "      <th>YearBuilt</th>\n",
       "      <td>0.538154</td>\n",
       "      <td>0.599502</td>\n",
       "      <td>0.270471</td>\n",
       "      <td>0.099711</td>\n",
       "      <td>1.000000</td>\n",
       "      <td>0.122933</td>\n",
       "    </tr>\n",
       "    <tr>\n",
       "      <th>LotFrontage</th>\n",
       "      <td>0.346752</td>\n",
       "      <td>0.252241</td>\n",
       "      <td>0.474576</td>\n",
       "      <td>0.357047</td>\n",
       "      <td>0.122933</td>\n",
       "      <td>1.000000</td>\n",
       "    </tr>\n",
       "  </tbody>\n",
       "</table>\n",
       "</div>"
      ],
      "text/plain": [
       "              SalePrice  OverallQual  1stFlrSF  TotRmsAbvGrd  YearBuilt  \\\n",
       "SalePrice      1.000000     0.788207  0.599344      0.534891   0.538154   \n",
       "OverallQual    0.788207     1.000000  0.468012      0.426049   0.599502   \n",
       "1stFlrSF       0.599344     0.468012  1.000000      0.414958   0.270471   \n",
       "TotRmsAbvGrd   0.534891     0.426049  0.414958      1.000000   0.099711   \n",
       "YearBuilt      0.538154     0.599502  0.270471      0.099711   1.000000   \n",
       "LotFrontage    0.346752     0.252241  0.474576      0.357047   0.122933   \n",
       "\n",
       "              LotFrontage  \n",
       "SalePrice        0.346752  \n",
       "OverallQual      0.252241  \n",
       "1stFlrSF         0.474576  \n",
       "TotRmsAbvGrd     0.357047  \n",
       "YearBuilt        0.122933  \n",
       "LotFrontage      1.000000  "
      ]
     },
     "execution_count": 76,
     "metadata": {},
     "output_type": "execute_result"
    }
   ],
   "source": [
    "train_x = train[['OverallQual','1stFlrSF','TotRmsAbvGrd','YearBuilt','LotFrontage']]\n",
    "train.corr()"
   ]
  }
 ],
 "metadata": {
  "kernelspec": {
   "display_name": "Python 3",
   "language": "python",
   "name": "python3"
  },
  "language_info": {
   "codemirror_mode": {
    "name": "ipython",
    "version": 3
   },
   "file_extension": ".py",
   "mimetype": "text/x-python",
   "name": "python",
   "nbconvert_exporter": "python",
   "pygments_lexer": "ipython3",
   "version": "3.8.8"
  }
 },
 "nbformat": 4,
 "nbformat_minor": 5
}
