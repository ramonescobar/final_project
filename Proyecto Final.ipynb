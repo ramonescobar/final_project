{
 "cells": [
  {
   "cell_type": "markdown",
   "id": "brief-warren",
   "metadata": {},
   "source": [
    "# Proyecto Final \n",
    "------\n",
    "\n",
    "Por Ramón Escobar para Ciencia de Datos en Python I (Abril 2021)"
   ]
  },
  {
   "cell_type": "markdown",
   "id": "accomplished-slide",
   "metadata": {},
   "source": [
    "## Carga de datos y Train-Test Split"
   ]
  },
  {
   "cell_type": "code",
   "execution_count": 16,
   "id": "flexible-norway",
   "metadata": {},
   "outputs": [],
   "source": [
    "#Librerias\n",
    "import numpy as np"
   ]
  },
  {
   "cell_type": "code",
   "execution_count": 30,
   "id": "established-andorra",
   "metadata": {},
   "outputs": [],
   "source": [
    "data = np.load('proyecto_training_data.npy', allow_pickle = False)"
   ]
  },
  {
   "cell_type": "code",
   "execution_count": 31,
   "id": "stone-hotel",
   "metadata": {},
   "outputs": [],
   "source": []
  },
  {
   "cell_type": "code",
   "execution_count": 32,
   "id": "greatest-picking",
   "metadata": {},
   "outputs": [
    {
     "name": "stdout",
     "output_type": "stream",
     "text": [
      "None\n"
     ]
    }
   ],
   "source": []
  },
  {
   "cell_type": "code",
   "execution_count": null,
   "id": "recorded-winter",
   "metadata": {},
   "outputs": [],
   "source": []
  }
 ],
 "metadata": {
  "kernelspec": {
   "display_name": "Python 3",
   "language": "python",
   "name": "python3"
  },
  "language_info": {
   "codemirror_mode": {
    "name": "ipython",
    "version": 3
   },
   "file_extension": ".py",
   "mimetype": "text/x-python",
   "name": "python",
   "nbconvert_exporter": "python",
   "pygments_lexer": "ipython3",
   "version": "3.8.8"
  }
 },
 "nbformat": 4,
 "nbformat_minor": 5
}
