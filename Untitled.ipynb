{
 "cells": [
  {
   "cell_type": "markdown",
   "id": "thousand-cleaner",
   "metadata": {},
   "source": [
    "# Proyecto Final \n",
    "------\n",
    "\n",
    "Por Ramón Escobar para Ciencia de Datos en Python I (Abril 2021)"
   ]
  },
  {
   "cell_type": "markdown",
   "id": "blond-accuracy",
   "metadata": {},
   "source": [
    "## Carga de datos y Train-Test Split"
   ]
  },
  {
   "cell_type": "code",
   "execution_count": 2,
   "id": "initial-allergy",
   "metadata": {},
   "outputs": [],
   "source": [
    "#Librerias\n",
    "import numpy as np"
   ]
  },
  {
   "cell_type": "code",
   "execution_count": null,
   "id": "administrative-juice",
   "metadata": {},
   "outputs": [],
   "source": [
    "data = np.load('proyecto_train')"
   ]
  }
 ],
 "metadata": {
  "kernelspec": {
   "display_name": "Python 3",
   "language": "python",
   "name": "python3"
  },
  "language_info": {
   "codemirror_mode": {
    "name": "ipython",
    "version": 3
   },
   "file_extension": ".py",
   "mimetype": "text/x-python",
   "name": "python",
   "nbconvert_exporter": "python",
   "pygments_lexer": "ipython3",
   "version": "3.8.8"
  }
 },
 "nbformat": 4,
 "nbformat_minor": 5
}
